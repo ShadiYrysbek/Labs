{
 "cells": [
  {
   "cell_type": "code",
   "execution_count": 17,
   "metadata": {},
   "outputs": [],
   "source": [
    "# Write a Python program to list only directories, files and all directories, files in a specified path.\n",
    "import os\n",
    "def listd(path):\n",
    "    path = \"/\"\n",
    "    dir_list = os.listdir(path)\n",
    "    return path\n",
    "    return dir_list\n"
   ]
  },
  {
   "cell_type": "code",
   "execution_count": 18,
   "metadata": {},
   "outputs": [],
   "source": [
    "# Write a Python program to check for access to a specified path. Test the existence, readability, writability and executability of the specified path\n",
    "import os\n",
    "def check(path): \n",
    "    return {\n",
    "        \"Exists\": os.path.exists(path),\n",
    "        \"Readable\": os.access(path, os.R_OK),\n",
    "        \"Writable\": os.access(path, os.W_OK),\n",
    "        \"Executable\": os.access(path, os.X_OK)\n",
    "    }"
   ]
  },
  {
   "cell_type": "code",
   "execution_count": 19,
   "metadata": {},
   "outputs": [],
   "source": [
    "# Write a Python program to test whether a given path exists or not. If the path exist find the filename and directory portion of the given path.\n",
    "import os\n",
    "def is_exist(path):\n",
    "    if os.path.exists(path):\n",
    "        return {\"Filename\": os.path.basename(path), \"Directory\": os.path.dirname(path)}\n",
    "    return \"Path does not exist\""
   ]
  },
  {
   "cell_type": "code",
   "execution_count": 20,
   "metadata": {},
   "outputs": [],
   "source": [
    "# Write a Python program to count the number of lines in a text file.\n",
    "import os\n",
    "def count_lines(file_path):\n",
    "    with open(file_path, 'r') as file:\n",
    "        return sum(1 for _ in file)"
   ]
  },
  {
   "cell_type": "code",
   "execution_count": 21,
   "metadata": {},
   "outputs": [],
   "source": [
    "# Write a Python program to write a list to a file.\n",
    "import os\n",
    "def list_to_file(file_path, data):\n",
    "    with open(file_path, 'w') as file:\n",
    "        file.writelines(\"\\n\".join(data))"
   ]
  },
  {
   "cell_type": "code",
   "execution_count": 53,
   "metadata": {},
   "outputs": [],
   "source": [
    "# Write a Python program to generate 26 text files named A.txt, B.txt, and so on up to Z.txt\n",
    "import os\n",
    "def generate_text_files():\n",
    "    for i in range(65, 91):\n",
    "        with open(f\"{chr(i)}.txt\", 'w') as file:\n",
    "            file.write(f\"This is {chr(i)}.txt\")"
   ]
  },
  {
   "cell_type": "code",
   "execution_count": 22,
   "metadata": {},
   "outputs": [],
   "source": [
    "# Write a Python program to copy the contents of a file to another file\n",
    "import os\n",
    "def copy_file(source, destination):\n",
    "    with open(source, 'r') as src, open(destination, 'w') as dest:\n",
    "        dest.write(src.read())"
   ]
  },
  {
   "cell_type": "code",
   "execution_count": 23,
   "metadata": {},
   "outputs": [],
   "source": [
    "# Write a Python program to delete file by specified path. Before deleting check for access and whether a given path exists or not.\n",
    "import os\n",
    "def delete_file(path):\n",
    "    if os.path.exists(path) and os.access(path, os.W_OK):\n",
    "        os.remove(path)\n",
    "        return \"File deleted\"\n",
    "    return \"File does not exist or cannot be deleted\""
   ]
  },
  {
   "cell_type": "code",
   "execution_count": 56,
   "metadata": {},
   "outputs": [
    {
     "name": "stdout",
     "output_type": "stream",
     "text": [
      "/\n",
      "{'Exists': True, 'Readable': True, 'Writable': True, 'Executable': True}\n",
      "{'Filename': 'test.txt', 'Directory': ''}\n",
      "3\n",
      "File deleted\n"
     ]
    }
   ],
   "source": [
    "import os \n",
    "print(listd(\".\"))\n",
    "print(check(\"test.txt\"))\n",
    "print(is_exist(\"test.txt\"))\n",
    "list_to_file(\"test.txt\", [\"Line 1\", \"Line 2\", \"Line 3\"]) #создает файл если он не сущ\n",
    "generate_text_files()\n",
    "print(count_lines(\"test.txt\"))  \n",
    "copy_file(\"test.txt\", \"destination.txt\")\n",
    "print(delete_file(\"test.txt\"))\n",
    "\n",
    "# for i in range(65, 91): \n",
    "#     delete_file(chr(i)+\".txt\")\n"
   ]
  }
 ],
 "metadata": {
  "kernelspec": {
   "display_name": "Python 3",
   "language": "python",
   "name": "python3"
  },
  "language_info": {
   "codemirror_mode": {
    "name": "ipython",
    "version": 3
   },
   "file_extension": ".py",
   "mimetype": "text/x-python",
   "name": "python",
   "nbconvert_exporter": "python",
   "pygments_lexer": "ipython3",
   "version": "3.12.9"
  }
 },
 "nbformat": 4,
 "nbformat_minor": 2
}
