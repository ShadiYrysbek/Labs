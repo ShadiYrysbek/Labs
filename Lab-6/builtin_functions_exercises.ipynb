{
 "cells": [
  {
   "cell_type": "code",
   "execution_count": 1,
   "metadata": {},
   "outputs": [
    {
     "name": "stdout",
     "output_type": "stream",
     "text": [
      "479001600\n"
     ]
    }
   ],
   "source": [
    "a = [1,2,3,4,5,6,7,8,9,10,11,12]\n",
    "x=1\n",
    "for i in a:\n",
    "    x *=i\n",
    "print(x)"
   ]
  },
  {
   "cell_type": "code",
   "execution_count": 7,
   "metadata": {},
   "outputs": [
    {
     "name": "stdout",
     "output_type": "stream",
     "text": [
      "Lower case =  1\n",
      "Upper case =  2\n",
      "Digits  =  3\n",
      "Simpols =  4\n"
     ]
    }
   ],
   "source": [
    "a = input()\n",
    "l=0\n",
    "u=0\n",
    "s=0 #simbol\n",
    "d = 0\n",
    "for i in a:\n",
    "    if i.islower():\n",
    "        l+=1\n",
    "    elif i.isupper():\n",
    "        u+=1\n",
    "    elif i.isdigit():\n",
    "        d+=1\n",
    "    else:\n",
    "        s+=1\n",
    "print(\"Lower case = \" , l)\n",
    "print(\"Upper case = \", u)\n",
    "print(\"Digits  = \", d)\n",
    "print(\"Simpols = \", s)"
   ]
  },
  {
   "cell_type": "code",
   "execution_count": 18,
   "metadata": {},
   "outputs": [
    {
     "name": "stdout",
     "output_type": "stream",
     "text": [
      "YES\n"
     ]
    }
   ],
   "source": [
    "a = input()\n",
    "if a == a[::-1]:\n",
    "    print(\"YES\")\n",
    "else:\n",
    "    print(\"NO\")"
   ]
  },
  {
   "cell_type": "code",
   "execution_count": 23,
   "metadata": {},
   "outputs": [
    {
     "name": "stdout",
     "output_type": "stream",
     "text": [
      "False\n"
     ]
    }
   ],
   "source": [
    "a = (1,3,4,67,4,3,5,6,3,53,2,0)\n",
    "q = True\n",
    "for i in a:\n",
    "    q = q and bool(i)\n",
    "print(q)"
   ]
  },
  {
   "cell_type": "code",
   "execution_count": null,
   "metadata": {},
   "outputs": [
    {
     "name": "stdout",
     "output_type": "stream",
     "text": [
      "0\n",
      "Square root of  25100  after  2123  miliseconds is  158.4297951775486\n"
     ]
    }
   ],
   "source": [
    "def Mysqrt(a):\n",
    "    if a < 0:\n",
    "        return \"Error\"\n",
    "    if a==0:\n",
    "        return 0\n",
    "    if a < 1:\n",
    "        l = a\n",
    "        r = 1\n",
    "    else:\n",
    "        l = 1\n",
    "        r = a\n",
    "    for i in range (100):\n",
    "        m = (l+r)/2\n",
    "        if (m*m<a):\n",
    "            l=m\n",
    "        elif (m*m>a):\n",
    "            r=m\n",
    "    return m\n",
    "\n",
    "import time\n",
    "a = int(input())\n",
    "t = int(input())\n",
    "# a = 25100\n",
    "# t = 2123\n",
    "# print(0)\n",
    "time.sleep(t/100)\n",
    "print(\"Square root of \",a,\" after \",t,\" miliseconds is \",Mysqrt(a))\n",
    "# 25100\n",
    "# 2123"
   ]
  }
 ],
 "metadata": {
  "kernelspec": {
   "display_name": "Python 3",
   "language": "python",
   "name": "python3"
  },
  "language_info": {
   "codemirror_mode": {
    "name": "ipython",
    "version": 3
   },
   "file_extension": ".py",
   "mimetype": "text/x-python",
   "name": "python",
   "nbconvert_exporter": "python",
   "pygments_lexer": "ipython3",
   "version": "3.12.9"
  }
 },
 "nbformat": 4,
 "nbformat_minor": 2
}
