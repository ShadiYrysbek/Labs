{
 "cells": [
  {
   "cell_type": "code",
   "execution_count": null,
   "metadata": {},
   "outputs": [
    {
     "name": "stdout",
     "output_type": "stream",
     "text": [
      "['a', 'a', 'b', 'a', 'a', 'b', 'b', 'b', 'b', 'a', 'b', 'b', 'a', 'b', 'a', 'b', 'b', 'a', 'b', 'a']\n"
     ]
    }
   ],
   "source": [
    "# Write a Python program that matches a string that has an followed by zero or more's.'a''b'\n",
    "# def A_B0(s):\n",
    "#     if s[0]==\"a\":\n",
    "#         if s[len(s)-1]==\"b\" or s[len(s)-1]==\"a\":\n",
    "#             s=sorted(s)\n",
    "#             if s[len(s)-1]==\"b\" or s[len(s)-1]==\"a\":\n",
    "#                 return \"YES\"\n",
    "#     return \"NO\"\n",
    "\n",
    "\n",
    "# a = input()\n",
    "# print(A_B0(a))\n",
    "\n",
    "\n",
    "import re\n",
    "def a_b0(s):\n",
    "    x = re.findall('[a-b]', s)\n",
    "    return x\n",
    "a = input()\n",
    "print(a_b0(a))\n",
    "\n",
    "         \n",
    "         \n"
   ]
  },
  {
   "cell_type": "code",
   "execution_count": 29,
   "metadata": {},
   "outputs": [
    {
     "name": "stdout",
     "output_type": "stream",
     "text": [
      "NO\n"
     ]
    }
   ],
   "source": [
    "# Write a Python program that matches a string that has an followed by two to three .'a''b'\n",
    "def two_three(s):\n",
    "    i = 0\n",
    "    while i<len(s):\n",
    "        if s[i]==\"a\":\n",
    "            if len(s)-i>=4 and s[i+1]==\"b\" and s[i+2]==\"b\" and s[i+3]==\"b\":\n",
    "                i+=3\n",
    "            elif len(s)-i>=3 and s[i+1]==\"b\" and s[i+2]==\"b\":\n",
    "                i+=2\n",
    "            else:\n",
    "                return \"NO\"\n",
    "        else:\n",
    "            return \"NO\"\n",
    "    return \"YES\"\n",
    "a=input()\n",
    "print(two_three(a))"
   ]
  },
  {
   "cell_type": "code",
   "execution_count": null,
   "metadata": {},
   "outputs": [],
   "source": []
  },
  {
   "cell_type": "code",
   "execution_count": null,
   "metadata": {},
   "outputs": [],
   "source": []
  },
  {
   "cell_type": "code",
   "execution_count": null,
   "metadata": {},
   "outputs": [],
   "source": []
  }
 ],
 "metadata": {
  "kernelspec": {
   "display_name": "Python 3",
   "language": "python",
   "name": "python3"
  },
  "language_info": {
   "codemirror_mode": {
    "name": "ipython",
    "version": 3
   },
   "file_extension": ".py",
   "mimetype": "text/x-python",
   "name": "python",
   "nbconvert_exporter": "python",
   "pygments_lexer": "ipython3",
   "version": "3.12.9"
  }
 },
 "nbformat": 4,
 "nbformat_minor": 2
}
