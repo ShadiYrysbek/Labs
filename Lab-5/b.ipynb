{
 "cells": [
  {
   "cell_type": "code",
   "execution_count": 18,
   "metadata": {},
   "outputs": [
    {
     "name": "stdout",
     "output_type": "stream",
     "text": [
      "['a', 'a']\n",
      "2\n"
     ]
    }
   ],
   "source": [
    "import re\n",
    "def a_b0(s):\n",
    "    x = re.findall('a', s)\n",
    "    return x\n",
    "a = input()\n",
    "print(a_b0(a))\n",
    "print(len(a_b0(a)))\n"
   ]
  },
  {
   "cell_type": "code",
   "execution_count": 9,
   "metadata": {},
   "outputs": [],
   "source": [
    "def Mysqrt(a):\n",
    "    if a < 0:\n",
    "        return \"Error\"\n",
    "    if a==0:\n",
    "        return 0\n",
    "    if a < 1:\n",
    "        l = a\n",
    "        r = 1\n",
    "    else:\n",
    "        l = 1\n",
    "        r = a\n",
    "    for i in range (100):\n",
    "        m = (l+r)/2\n",
    "        if (m*m<a):\n",
    "            l=m\n",
    "        elif (m*m>a):\n",
    "            r=m\n",
    "    return m"
   ]
  },
  {
   "cell_type": "code",
   "execution_count": 10,
   "metadata": {},
   "outputs": [],
   "source": [
    "def abs(a):\n",
    "    if a < 0:\n",
    "        return a*-1\n",
    "    else:\n",
    "        return a\n",
    "\n",
    "def threeSqrt(a):\n",
    "    if a == 1:\n",
    "        return 1\n",
    "    if a == -1:\n",
    "        return -1\n",
    "    if a==0:\n",
    "        return 0\n",
    "    if abs(a) < 1:\n",
    "        l = a\n",
    "        r = 1\n",
    "    else:\n",
    "        l=1\n",
    "        r=a\n",
    "    for i in range (100):\n",
    "        m = (l+r)/2\n",
    "        if (m*m*m<a):\n",
    "            l=m\n",
    "        elif (m*m*m>a):\n",
    "            r=m\n",
    "    return m"
   ]
  },
  {
   "cell_type": "code",
   "execution_count": 11,
   "metadata": {},
   "outputs": [
    {
     "name": "stdout",
     "output_type": "stream",
     "text": [
      "7.0710678118654755\n",
      "3.684031498640387\n"
     ]
    }
   ],
   "source": [
    "a = int(input())\n",
    "print(Mysqrt(a))\n",
    "print(threeSqrt(a))"
   ]
  },
  {
   "cell_type": "code",
   "execution_count": null,
   "metadata": {},
   "outputs": [
    {
     "name": "stdout",
     "output_type": "stream",
     "text": [
      "['abb', 'abb', 'abbb']\n",
      "3\n"
     ]
    }
   ],
   "source": [
    "txt = input()\n",
    "x = re.findall(\"^ab{2,3}$\", txt)\n",
    "if(x):\n",
    "    print(\"YES\")\n",
    "else:\n",
    "    print(\"NO\")"
   ]
  },
  {
   "cell_type": "code",
   "execution_count": null,
   "metadata": {},
   "outputs": [
    {
     "name": "stdout",
     "output_type": "stream",
     "text": [
      "NO\n"
     ]
    }
   ],
   "source": [
    "import re\n",
    "text = input()\n",
    "x = re.findall(r'\\b[a-z]+_[a-z]+\\b', text)\n",
    "print(x)"
   ]
  },
  {
   "cell_type": "code",
   "execution_count": 3,
   "metadata": {},
   "outputs": [
    {
     "name": "stdout",
     "output_type": "stream",
     "text": [
      "['Ddgdfgd', 'Fgdgfdg']\n"
     ]
    }
   ],
   "source": [
    "import re\n",
    "txt = input()\n",
    "x = re.findall(\"[A-Z][a-z]+\", txt)\n",
    "print(x)"
   ]
  },
  {
   "cell_type": "code",
   "execution_count": 4,
   "metadata": {},
   "outputs": [
    {
     "name": "stdout",
     "output_type": "stream",
     "text": [
      "[]\n"
     ]
    }
   ],
   "source": [
    "txt = input()\n",
    "x = re.findall(\"^a.*b$\", txt)\n",
    "print(x)"
   ]
  },
  {
   "cell_type": "code",
   "execution_count": 5,
   "metadata": {},
   "outputs": [
    {
     "name": "stdout",
     "output_type": "stream",
     "text": [
      "dhsrhsdfhdrd:fg/df\n"
     ]
    }
   ],
   "source": [
    "txt = input()\n",
    "x = re.sub(\"[ ,.]\", \":\", txt)\n",
    "print(x)"
   ]
  },
  {
   "cell_type": "code",
   "execution_count": 6,
   "metadata": {},
   "outputs": [
    {
     "name": "stdout",
     "output_type": "stream",
     "text": [
      "zdxcvhj\n"
     ]
    }
   ],
   "source": [
    "txt = input()\n",
    "words = txt.split(\"_\")\n",
    "x = words[0] + ''.join(word.capitalize() for word in words[1:])\n",
    "print(x)"
   ]
  },
  {
   "cell_type": "code",
   "execution_count": 7,
   "metadata": {},
   "outputs": [
    {
     "name": "stdout",
     "output_type": "stream",
     "text": [
      "['gdfg']\n"
     ]
    }
   ],
   "source": [
    "txt = input()\n",
    "x = re.split(\"(?=[A-Z])\", txt)\n",
    "print(x)"
   ]
  },
  {
   "cell_type": "code",
   "execution_count": 8,
   "metadata": {},
   "outputs": [
    {
     "name": "stdout",
     "output_type": "stream",
     "text": [
      "zxcvb\n"
     ]
    }
   ],
   "source": [
    "txt = input()\n",
    "x = re.sub(\"(?<!^)(?=[A-Z])\", \" \", txt)\n",
    "print(x)"
   ]
  },
  {
   "cell_type": "code",
   "execution_count": 10,
   "metadata": {},
   "outputs": [
    {
     "name": "stdout",
     "output_type": "stream",
     "text": [
      "sdfg df dfg df gfg \n"
     ]
    }
   ],
   "source": [
    "txt = input()\n",
    "x = re.sub(\"(?<!^)(?=[A-Z])\", \"_\", txt).lower()\n",
    "print(x)"
   ]
  }
 ],
 "metadata": {
  "kernelspec": {
   "display_name": "Python 3",
   "language": "python",
   "name": "python3"
  },
  "language_info": {
   "codemirror_mode": {
    "name": "ipython",
    "version": 3
   },
   "file_extension": ".py",
   "mimetype": "text/x-python",
   "name": "python",
   "nbconvert_exporter": "python",
   "pygments_lexer": "ipython3",
   "version": "3.12.9"
  }
 },
 "nbformat": 4,
 "nbformat_minor": 2
}
